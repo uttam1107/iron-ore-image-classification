{
 "cells": [
  {
   "cell_type": "code",
   "execution_count": 1,
   "id": "6f0db20d",
   "metadata": {},
   "outputs": [],
   "source": [
    "import numpy as np\n",
    "from sklearn.model_selection import train_test_split\n",
    "from sklearn.metrics import confusion_matrix\n",
    "from keras.utils.np_utils import to_categorical\n",
    "from keras.models import Sequential\n",
    "from keras.layers import Dense, Flatten, Conv2D, MaxPool2D, Dropout\n",
    "from keras.optimizers import Adam\n",
    "from keras.preprocessing.image import ImageDataGenerator\n",
    "from PIL import Image, ImageChops, ImageEnhance\n",
    "import os\n",
    "import itertools"
   ]
  },
  {
   "cell_type": "code",
   "execution_count": 42,
   "id": "f89b7267",
   "metadata": {},
   "outputs": [],
   "source": [
    "import matplotlib.pyplot as plt\n",
    "%matplotlib inline\n",
    "np.random.seed(2)\n",
    "import cv2\n",
    "import os\n",
    "import PIL\n",
    "import tensorflow as tf\n",
    "from tensorflow import keras\n",
    "from tensorflow.keras import layers\n",
    "from tensorflow.keras.models import Sequential"
   ]
  },
  {
   "cell_type": "code",
   "execution_count": 43,
   "id": "df2b5582",
   "metadata": {},
   "outputs": [],
   "source": [
    "import pathlib\n",
    "data=pathlib.Path(\"20mag2\")"
   ]
  },
  {
   "cell_type": "code",
   "execution_count": 44,
   "id": "4bf8be56",
   "metadata": {},
   "outputs": [
    {
     "data": {
      "text/plain": [
       "WindowsPath('20mag2')"
      ]
     },
     "execution_count": 44,
     "metadata": {},
     "output_type": "execute_result"
    }
   ],
   "source": [
    "data"
   ]
  },
  {
   "cell_type": "code",
   "execution_count": 45,
   "id": "67daffe9",
   "metadata": {},
   "outputs": [
    {
     "data": {
      "text/plain": [
       "[WindowsPath('20mag2/hl/image0001_h1_0.png'),\n",
       " WindowsPath('20mag2/hl/image0001_h1_1.png'),\n",
       " WindowsPath('20mag2/hl/image0001_h1_2.png'),\n",
       " WindowsPath('20mag2/hl/image0001_h1_3.png'),\n",
       " WindowsPath('20mag2/hl/image0002_h1_0.png'),\n",
       " WindowsPath('20mag2/hl/image0002_h1_1.png'),\n",
       " WindowsPath('20mag2/hl/image0002_h1_2.png'),\n",
       " WindowsPath('20mag2/hl/image0002_h1_3.png'),\n",
       " WindowsPath('20mag2/hl/image0003_h1_0.png'),\n",
       " WindowsPath('20mag2/hl/image0003_h1_1.png'),\n",
       " WindowsPath('20mag2/hl/image0003_h1_2.png'),\n",
       " WindowsPath('20mag2/hl/image0003_h1_3.png'),\n",
       " WindowsPath('20mag2/hl/image0004_h1_0.png'),\n",
       " WindowsPath('20mag2/hl/image0004_h1_1.png'),\n",
       " WindowsPath('20mag2/hl/image0004_h1_2.png'),\n",
       " WindowsPath('20mag2/hl/image0004_h1_3.png'),\n",
       " WindowsPath('20mag2/hl/image0005_h1_0.png'),\n",
       " WindowsPath('20mag2/hl/image0005_h1_1.png'),\n",
       " WindowsPath('20mag2/hl/image0005_h1_2.png'),\n",
       " WindowsPath('20mag2/hl/image0005_h1_3.png'),\n",
       " WindowsPath('20mag2/hl/image0006_h1_0.png'),\n",
       " WindowsPath('20mag2/hl/image0006_h1_1.png'),\n",
       " WindowsPath('20mag2/hl/image0006_h1_2.png'),\n",
       " WindowsPath('20mag2/hl/image0006_h1_3.png'),\n",
       " WindowsPath('20mag2/hl/image0007_h1_0.png'),\n",
       " WindowsPath('20mag2/hl/image0007_h1_1.png'),\n",
       " WindowsPath('20mag2/hl/image0007_h1_2.png'),\n",
       " WindowsPath('20mag2/hl/image0007_h1_3.png'),\n",
       " WindowsPath('20mag2/hl/image0008_h1_0.png'),\n",
       " WindowsPath('20mag2/hl/image0008_h1_1.png'),\n",
       " WindowsPath('20mag2/hl/image0008_h1_2.png'),\n",
       " WindowsPath('20mag2/hl/image0008_h1_3.png'),\n",
       " WindowsPath('20mag2/hl/image0009_h1_0.png'),\n",
       " WindowsPath('20mag2/hl/image0009_h1_1.png'),\n",
       " WindowsPath('20mag2/hl/image0009_h1_2.png'),\n",
       " WindowsPath('20mag2/hl/image0009_h1_3.png'),\n",
       " WindowsPath('20mag2/hl/image0010_h1_0.png'),\n",
       " WindowsPath('20mag2/hl/image0010_h1_1.png'),\n",
       " WindowsPath('20mag2/hl/image0010_h1_2.png'),\n",
       " WindowsPath('20mag2/hl/image0010_h1_3.png'),\n",
       " WindowsPath('20mag2/hl/image0011_h1_0.png'),\n",
       " WindowsPath('20mag2/hl/image0011_h1_1.png'),\n",
       " WindowsPath('20mag2/hl/image0011_h1_2.png'),\n",
       " WindowsPath('20mag2/hl/image0011_h1_3.png'),\n",
       " WindowsPath('20mag2/hl/image0012_h1_0.png'),\n",
       " WindowsPath('20mag2/hl/image0012_h1_1.png'),\n",
       " WindowsPath('20mag2/hl/image0012_h1_2.png'),\n",
       " WindowsPath('20mag2/hl/image0012_h1_3.png'),\n",
       " WindowsPath('20mag2/hl/image0013_h1_0.png'),\n",
       " WindowsPath('20mag2/hl/image0013_h1_1.png'),\n",
       " WindowsPath('20mag2/hl/image0013_h1_2.png'),\n",
       " WindowsPath('20mag2/hl/image0013_h1_3.png'),\n",
       " WindowsPath('20mag2/hl/image0014_h1_0.png'),\n",
       " WindowsPath('20mag2/hl/image0014_h1_1.png'),\n",
       " WindowsPath('20mag2/hl/image0014_h1_2.png'),\n",
       " WindowsPath('20mag2/hl/image0014_h1_3.png'),\n",
       " WindowsPath('20mag2/hl/image0015_h1_0.png'),\n",
       " WindowsPath('20mag2/hl/image0015_h1_1.png'),\n",
       " WindowsPath('20mag2/hl/image0015_h1_2.png'),\n",
       " WindowsPath('20mag2/hl/image0015_h1_3.png'),\n",
       " WindowsPath('20mag2/hl/image0016_h1_0.png'),\n",
       " WindowsPath('20mag2/hl/image0016_h1_1.png'),\n",
       " WindowsPath('20mag2/hl/image0016_h1_2.png'),\n",
       " WindowsPath('20mag2/hl/image0016_h1_3.png'),\n",
       " WindowsPath('20mag2/hl/image0017_h1_0.png'),\n",
       " WindowsPath('20mag2/hl/image0017_h1_1.png'),\n",
       " WindowsPath('20mag2/hl/image0017_h1_2.png'),\n",
       " WindowsPath('20mag2/hl/image0017_h1_3.png'),\n",
       " WindowsPath('20mag2/hl/image0018_h1_0.png'),\n",
       " WindowsPath('20mag2/hl/image0018_h1_1.png'),\n",
       " WindowsPath('20mag2/hl/image0018_h1_2.png'),\n",
       " WindowsPath('20mag2/hl/image0018_h1_3.png'),\n",
       " WindowsPath('20mag2/hl/image0019_h1_0.png'),\n",
       " WindowsPath('20mag2/hl/image0019_h1_1.png'),\n",
       " WindowsPath('20mag2/hl/image0019_h1_2.png'),\n",
       " WindowsPath('20mag2/hl/image0019_h1_3.png'),\n",
       " WindowsPath('20mag2/hl/image0020_h1_0.png'),\n",
       " WindowsPath('20mag2/hl/image0020_h1_1.png'),\n",
       " WindowsPath('20mag2/hl/image0020_h1_2.png'),\n",
       " WindowsPath('20mag2/hl/image0020_h1_3.png'),\n",
       " WindowsPath('20mag2/hl/image0021_h1_0.png'),\n",
       " WindowsPath('20mag2/hl/image0021_h1_1.png'),\n",
       " WindowsPath('20mag2/hl/image0021_h1_2.png'),\n",
       " WindowsPath('20mag2/hl/image0021_h1_3.png'),\n",
       " WindowsPath('20mag2/hl/image0022_h1_0.png'),\n",
       " WindowsPath('20mag2/hl/image0022_h1_1.png'),\n",
       " WindowsPath('20mag2/hl/image0022_h1_2.png'),\n",
       " WindowsPath('20mag2/hl/image0022_h1_3.png'),\n",
       " WindowsPath('20mag2/hl/image0023_h1_0.png'),\n",
       " WindowsPath('20mag2/hl/image0023_h1_1.png'),\n",
       " WindowsPath('20mag2/hl/image0023_h1_2.png'),\n",
       " WindowsPath('20mag2/hl/image0023_h1_3.png'),\n",
       " WindowsPath('20mag2/hl/image0024_h1_0.png'),\n",
       " WindowsPath('20mag2/hl/image0024_h1_1.png'),\n",
       " WindowsPath('20mag2/hl/image0024_h1_2.png'),\n",
       " WindowsPath('20mag2/hl/image0024_h1_3.png'),\n",
       " WindowsPath('20mag2/hl/image0025_h1_0.png'),\n",
       " WindowsPath('20mag2/hl/image0025_h1_1.png'),\n",
       " WindowsPath('20mag2/hl/image0025_h1_2.png'),\n",
       " WindowsPath('20mag2/hl/image0025_h1_3.png'),\n",
       " WindowsPath('20mag2/hl/image0026_h1_0.png'),\n",
       " WindowsPath('20mag2/hl/image0026_h1_1.png'),\n",
       " WindowsPath('20mag2/hl/image0026_h1_2.png'),\n",
       " WindowsPath('20mag2/hl/image0026_h1_3.png'),\n",
       " WindowsPath('20mag2/hl/image0027_h1_0.png'),\n",
       " WindowsPath('20mag2/hl/image0027_h1_1.png'),\n",
       " WindowsPath('20mag2/hl/image0027_h1_2.png'),\n",
       " WindowsPath('20mag2/hl/image0027_h1_3.png'),\n",
       " WindowsPath('20mag2/hl/image0028_h1_0.png'),\n",
       " WindowsPath('20mag2/hl/image0028_h1_1.png'),\n",
       " WindowsPath('20mag2/hl/image0028_h1_2.png'),\n",
       " WindowsPath('20mag2/hl/image0028_h1_3.png'),\n",
       " WindowsPath('20mag2/hl/image0029_h1_0.png'),\n",
       " WindowsPath('20mag2/hl/image0029_h1_1.png'),\n",
       " WindowsPath('20mag2/hl/image0029_h1_2.png'),\n",
       " WindowsPath('20mag2/hl/image0029_h1_3.png'),\n",
       " WindowsPath('20mag2/hl/image0030_h1_0.png'),\n",
       " WindowsPath('20mag2/hl/image0030_h1_1.png'),\n",
       " WindowsPath('20mag2/hl/image0030_h1_2.png'),\n",
       " WindowsPath('20mag2/hl/image0030_h1_3.png'),\n",
       " WindowsPath('20mag2/hl/image0031_h1_0.png'),\n",
       " WindowsPath('20mag2/hl/image0031_h1_1.png'),\n",
       " WindowsPath('20mag2/hl/image0031_h1_2.png'),\n",
       " WindowsPath('20mag2/hl/image0031_h1_3.png'),\n",
       " WindowsPath('20mag2/hl/image0032_h1_0.png'),\n",
       " WindowsPath('20mag2/hl/image0032_h1_1.png'),\n",
       " WindowsPath('20mag2/hl/image0032_h1_2.png'),\n",
       " WindowsPath('20mag2/hl/image0032_h1_3.png'),\n",
       " WindowsPath('20mag2/hl/image0033_h1_0.png'),\n",
       " WindowsPath('20mag2/hl/image0033_h1_1.png'),\n",
       " WindowsPath('20mag2/hl/image0033_h1_2.png'),\n",
       " WindowsPath('20mag2/hl/image0033_h1_3.png'),\n",
       " WindowsPath('20mag2/hl/image0034_h1_0.png'),\n",
       " WindowsPath('20mag2/hl/image0034_h1_1.png'),\n",
       " WindowsPath('20mag2/hl/image0034_h1_2.png'),\n",
       " WindowsPath('20mag2/hl/image0034_h1_3.png'),\n",
       " WindowsPath('20mag2/hl/image0035_h1_0.png'),\n",
       " WindowsPath('20mag2/hl/image0035_h1_1.png'),\n",
       " WindowsPath('20mag2/hl/image0035_h1_2.png'),\n",
       " WindowsPath('20mag2/hl/image0035_h1_3.png'),\n",
       " WindowsPath('20mag2/hl/image0036_h1_0.png'),\n",
       " WindowsPath('20mag2/hl/image0036_h1_1.png'),\n",
       " WindowsPath('20mag2/hl/image0036_h1_2.png'),\n",
       " WindowsPath('20mag2/hl/image0036_h1_3.png'),\n",
       " WindowsPath('20mag2/hl/image0037_h1_0.png'),\n",
       " WindowsPath('20mag2/hl/image0037_h1_1.png'),\n",
       " WindowsPath('20mag2/hl/image0037_h1_2.png'),\n",
       " WindowsPath('20mag2/hl/image0037_h1_3.png'),\n",
       " WindowsPath('20mag2/hl/image0038_h1_0.png'),\n",
       " WindowsPath('20mag2/hl/image0038_h1_1.png'),\n",
       " WindowsPath('20mag2/hl/image0038_h1_2.png'),\n",
       " WindowsPath('20mag2/hl/image0038_h1_3.png'),\n",
       " WindowsPath('20mag2/hl/image0039_h1_0.png'),\n",
       " WindowsPath('20mag2/hl/image0039_h1_1.png'),\n",
       " WindowsPath('20mag2/hl/image0039_h1_2.png'),\n",
       " WindowsPath('20mag2/hl/image0039_h1_3.png'),\n",
       " WindowsPath('20mag2/hl/image0040_h1_0.png'),\n",
       " WindowsPath('20mag2/hl/image0040_h1_1.png'),\n",
       " WindowsPath('20mag2/hl/image0040_h1_2.png'),\n",
       " WindowsPath('20mag2/hl/image0040_h1_3.png'),\n",
       " WindowsPath('20mag2/hl/image_h1_0.png'),\n",
       " WindowsPath('20mag2/hl/image_h1_1.png'),\n",
       " WindowsPath('20mag2/hl/image_h1_2.png'),\n",
       " WindowsPath('20mag2/hl/image_h1_3.png'),\n",
       " WindowsPath('20mag2/ll/image0001_l1_0.png'),\n",
       " WindowsPath('20mag2/ll/image0001_l1_1.png'),\n",
       " WindowsPath('20mag2/ll/image0001_l1_2.png'),\n",
       " WindowsPath('20mag2/ll/image0001_l1_3.png'),\n",
       " WindowsPath('20mag2/ll/image0002_l1_0.png'),\n",
       " WindowsPath('20mag2/ll/image0002_l1_1.png'),\n",
       " WindowsPath('20mag2/ll/image0002_l1_2.png'),\n",
       " WindowsPath('20mag2/ll/image0002_l1_3.png'),\n",
       " WindowsPath('20mag2/ll/image0003_l1_0.png'),\n",
       " WindowsPath('20mag2/ll/image0003_l1_1.png'),\n",
       " WindowsPath('20mag2/ll/image0003_l1_2.png'),\n",
       " WindowsPath('20mag2/ll/image0003_l1_3.png'),\n",
       " WindowsPath('20mag2/ll/image0004_l1_0.png'),\n",
       " WindowsPath('20mag2/ll/image0004_l1_1.png'),\n",
       " WindowsPath('20mag2/ll/image0004_l1_2.png'),\n",
       " WindowsPath('20mag2/ll/image0004_l1_3.png'),\n",
       " WindowsPath('20mag2/ll/image0005_l1_0.png'),\n",
       " WindowsPath('20mag2/ll/image0005_l1_1.png'),\n",
       " WindowsPath('20mag2/ll/image0005_l1_2.png'),\n",
       " WindowsPath('20mag2/ll/image0005_l1_3.png'),\n",
       " WindowsPath('20mag2/ll/image0006_l1_0.png'),\n",
       " WindowsPath('20mag2/ll/image0006_l1_1.png'),\n",
       " WindowsPath('20mag2/ll/image0006_l1_2.png'),\n",
       " WindowsPath('20mag2/ll/image0006_l1_3.png'),\n",
       " WindowsPath('20mag2/ll/image0007_l1_0.png'),\n",
       " WindowsPath('20mag2/ll/image0007_l1_1.png'),\n",
       " WindowsPath('20mag2/ll/image0007_l1_2.png'),\n",
       " WindowsPath('20mag2/ll/image0007_l1_3.png'),\n",
       " WindowsPath('20mag2/ll/image0008_l1_0.png'),\n",
       " WindowsPath('20mag2/ll/image0008_l1_1.png'),\n",
       " WindowsPath('20mag2/ll/image0008_l1_2.png'),\n",
       " WindowsPath('20mag2/ll/image0008_l1_3.png'),\n",
       " WindowsPath('20mag2/ll/image0009_l1_0.png'),\n",
       " WindowsPath('20mag2/ll/image0009_l1_1.png'),\n",
       " WindowsPath('20mag2/ll/image0009_l1_2.png'),\n",
       " WindowsPath('20mag2/ll/image0009_l1_3.png'),\n",
       " WindowsPath('20mag2/ll/image0010_l1_0.png'),\n",
       " WindowsPath('20mag2/ll/image0010_l1_1.png'),\n",
       " WindowsPath('20mag2/ll/image0010_l1_2.png'),\n",
       " WindowsPath('20mag2/ll/image0010_l1_3.png'),\n",
       " WindowsPath('20mag2/ll/image0011_l1_0.png'),\n",
       " WindowsPath('20mag2/ll/image0011_l1_1.png'),\n",
       " WindowsPath('20mag2/ll/image0011_l1_2.png'),\n",
       " WindowsPath('20mag2/ll/image0011_l1_3.png'),\n",
       " WindowsPath('20mag2/ll/image0012_l1_0.png'),\n",
       " WindowsPath('20mag2/ll/image0012_l1_1.png'),\n",
       " WindowsPath('20mag2/ll/image0012_l1_2.png'),\n",
       " WindowsPath('20mag2/ll/image0012_l1_3.png'),\n",
       " WindowsPath('20mag2/ll/image0013_l1_0.png'),\n",
       " WindowsPath('20mag2/ll/image0013_l1_1.png'),\n",
       " WindowsPath('20mag2/ll/image0013_l1_2.png'),\n",
       " WindowsPath('20mag2/ll/image0013_l1_3.png'),\n",
       " WindowsPath('20mag2/ll/image0014_l1_0.png'),\n",
       " WindowsPath('20mag2/ll/image0014_l1_1.png'),\n",
       " WindowsPath('20mag2/ll/image0014_l1_2.png'),\n",
       " WindowsPath('20mag2/ll/image0014_l1_3.png'),\n",
       " WindowsPath('20mag2/ll/image0015_l1_0.png'),\n",
       " WindowsPath('20mag2/ll/image0015_l1_1.png'),\n",
       " WindowsPath('20mag2/ll/image0015_l1_2.png'),\n",
       " WindowsPath('20mag2/ll/image0015_l1_3.png'),\n",
       " WindowsPath('20mag2/ll/image0016_l1_0.png'),\n",
       " WindowsPath('20mag2/ll/image0016_l1_1.png'),\n",
       " WindowsPath('20mag2/ll/image0016_l1_2.png'),\n",
       " WindowsPath('20mag2/ll/image0016_l1_3.png'),\n",
       " WindowsPath('20mag2/ll/image0017_l1_0.png'),\n",
       " WindowsPath('20mag2/ll/image0017_l1_1.png'),\n",
       " WindowsPath('20mag2/ll/image0017_l1_2.png'),\n",
       " WindowsPath('20mag2/ll/image0017_l1_3.png'),\n",
       " WindowsPath('20mag2/ll/image0018_l1_0.png'),\n",
       " WindowsPath('20mag2/ll/image0018_l1_1.png'),\n",
       " WindowsPath('20mag2/ll/image0018_l1_2.png'),\n",
       " WindowsPath('20mag2/ll/image0018_l1_3.png'),\n",
       " WindowsPath('20mag2/ll/image0019_l1_0.png'),\n",
       " WindowsPath('20mag2/ll/image0019_l1_1.png'),\n",
       " WindowsPath('20mag2/ll/image0019_l1_2.png'),\n",
       " WindowsPath('20mag2/ll/image0019_l1_3.png'),\n",
       " WindowsPath('20mag2/ll/image0020_l1_0.png'),\n",
       " WindowsPath('20mag2/ll/image0020_l1_1.png'),\n",
       " WindowsPath('20mag2/ll/image0020_l1_2.png'),\n",
       " WindowsPath('20mag2/ll/image0020_l1_3.png'),\n",
       " WindowsPath('20mag2/ll/image0021_l1_0.png'),\n",
       " WindowsPath('20mag2/ll/image0021_l1_1.png'),\n",
       " WindowsPath('20mag2/ll/image0021_l1_2.png'),\n",
       " WindowsPath('20mag2/ll/image0021_l1_3.png'),\n",
       " WindowsPath('20mag2/ll/image0022_l1_0.png'),\n",
       " WindowsPath('20mag2/ll/image0022_l1_1.png'),\n",
       " WindowsPath('20mag2/ll/image0022_l1_2.png'),\n",
       " WindowsPath('20mag2/ll/image0022_l1_3.png'),\n",
       " WindowsPath('20mag2/ll/image0023_l1_0.png'),\n",
       " WindowsPath('20mag2/ll/image0023_l1_1.png'),\n",
       " WindowsPath('20mag2/ll/image0023_l1_2.png'),\n",
       " WindowsPath('20mag2/ll/image0023_l1_3.png'),\n",
       " WindowsPath('20mag2/ll/image0024_l1_0.png'),\n",
       " WindowsPath('20mag2/ll/image0024_l1_1.png'),\n",
       " WindowsPath('20mag2/ll/image0024_l1_2.png'),\n",
       " WindowsPath('20mag2/ll/image0024_l1_3.png'),\n",
       " WindowsPath('20mag2/ll/image0025_l1_0.png'),\n",
       " WindowsPath('20mag2/ll/image0025_l1_1.png'),\n",
       " WindowsPath('20mag2/ll/image0025_l1_2.png'),\n",
       " WindowsPath('20mag2/ll/image0025_l1_3.png'),\n",
       " WindowsPath('20mag2/ll/image0026_l1_0.png'),\n",
       " WindowsPath('20mag2/ll/image0026_l1_1.png'),\n",
       " WindowsPath('20mag2/ll/image0026_l1_2.png'),\n",
       " WindowsPath('20mag2/ll/image0026_l1_3.png'),\n",
       " WindowsPath('20mag2/ll/image0027_l1_0.png'),\n",
       " WindowsPath('20mag2/ll/image0027_l1_1.png'),\n",
       " WindowsPath('20mag2/ll/image0027_l1_2.png'),\n",
       " WindowsPath('20mag2/ll/image0027_l1_3.png'),\n",
       " WindowsPath('20mag2/ll/image0028_l1_0.png'),\n",
       " WindowsPath('20mag2/ll/image0028_l1_1.png'),\n",
       " WindowsPath('20mag2/ll/image0028_l1_2.png'),\n",
       " WindowsPath('20mag2/ll/image0028_l1_3.png'),\n",
       " WindowsPath('20mag2/ll/image0029_l1_0.png'),\n",
       " WindowsPath('20mag2/ll/image0029_l1_1.png'),\n",
       " WindowsPath('20mag2/ll/image0029_l1_2.png'),\n",
       " WindowsPath('20mag2/ll/image0029_l1_3.png'),\n",
       " WindowsPath('20mag2/ll/image0030_l1_0.png'),\n",
       " WindowsPath('20mag2/ll/image0030_l1_1.png'),\n",
       " WindowsPath('20mag2/ll/image0030_l1_2.png'),\n",
       " WindowsPath('20mag2/ll/image0030_l1_3.png'),\n",
       " WindowsPath('20mag2/ll/image0031_l1_0.png'),\n",
       " WindowsPath('20mag2/ll/image0031_l1_1.png'),\n",
       " WindowsPath('20mag2/ll/image0031_l1_2.png'),\n",
       " WindowsPath('20mag2/ll/image0031_l1_3.png'),\n",
       " WindowsPath('20mag2/ll/image0032_l1_0.png'),\n",
       " WindowsPath('20mag2/ll/image0032_l1_1.png'),\n",
       " WindowsPath('20mag2/ll/image0032_l1_2.png'),\n",
       " WindowsPath('20mag2/ll/image0032_l1_3.png'),\n",
       " WindowsPath('20mag2/ll/image0033_l1_0.png'),\n",
       " WindowsPath('20mag2/ll/image0033_l1_1.png'),\n",
       " WindowsPath('20mag2/ll/image0033_l1_2.png'),\n",
       " WindowsPath('20mag2/ll/image0033_l1_3.png'),\n",
       " WindowsPath('20mag2/ll/image0034_l1_0.png'),\n",
       " WindowsPath('20mag2/ll/image0034_l1_1.png'),\n",
       " WindowsPath('20mag2/ll/image0034_l1_2.png'),\n",
       " WindowsPath('20mag2/ll/image0034_l1_3.png'),\n",
       " WindowsPath('20mag2/ll/image0035_l1_0.png'),\n",
       " WindowsPath('20mag2/ll/image0035_l1_1.png'),\n",
       " WindowsPath('20mag2/ll/image0035_l1_2.png'),\n",
       " WindowsPath('20mag2/ll/image0035_l1_3.png'),\n",
       " WindowsPath('20mag2/ll/image0036_l1_0.png'),\n",
       " WindowsPath('20mag2/ll/image0036_l1_1.png'),\n",
       " WindowsPath('20mag2/ll/image0036_l1_2.png'),\n",
       " WindowsPath('20mag2/ll/image0036_l1_3.png'),\n",
       " WindowsPath('20mag2/ll/image0037_l1_0.png'),\n",
       " WindowsPath('20mag2/ll/image0037_l1_1.png'),\n",
       " WindowsPath('20mag2/ll/image0037_l1_2.png'),\n",
       " WindowsPath('20mag2/ll/image0037_l1_3.png'),\n",
       " WindowsPath('20mag2/ll/image0038_l1_0.png'),\n",
       " WindowsPath('20mag2/ll/image0038_l1_1.png'),\n",
       " WindowsPath('20mag2/ll/image0038_l1_2.png'),\n",
       " WindowsPath('20mag2/ll/image0038_l1_3.png'),\n",
       " WindowsPath('20mag2/ll/image0039_l1_0.png'),\n",
       " WindowsPath('20mag2/ll/image0039_l1_1.png'),\n",
       " WindowsPath('20mag2/ll/image0039_l1_2.png'),\n",
       " WindowsPath('20mag2/ll/image0039_l1_3.png'),\n",
       " WindowsPath('20mag2/ll/image0040_l1_0.png'),\n",
       " WindowsPath('20mag2/ll/image0040_l1_1.png'),\n",
       " WindowsPath('20mag2/ll/image0040_l1_2.png'),\n",
       " WindowsPath('20mag2/ll/image0040_l1_3.png'),\n",
       " WindowsPath('20mag2/ll/image0041_l1_0.png'),\n",
       " WindowsPath('20mag2/ll/image0041_l1_1.png'),\n",
       " WindowsPath('20mag2/ll/image0041_l1_2.png'),\n",
       " WindowsPath('20mag2/ll/image0041_l1_3.png'),\n",
       " WindowsPath('20mag2/ll/image_l1_0.png'),\n",
       " WindowsPath('20mag2/ll/image_l1_1.png'),\n",
       " WindowsPath('20mag2/ll/image_l1_2.png'),\n",
       " WindowsPath('20mag2/ll/image_l1_3.png'),\n",
       " WindowsPath('20mag2/sl/image0001_s1_0.png'),\n",
       " WindowsPath('20mag2/sl/image0001_s1_1.png'),\n",
       " WindowsPath('20mag2/sl/image0001_s1_2.png'),\n",
       " WindowsPath('20mag2/sl/image0001_s1_3.png'),\n",
       " WindowsPath('20mag2/sl/image0002_s1_0.png'),\n",
       " WindowsPath('20mag2/sl/image0002_s1_1.png'),\n",
       " WindowsPath('20mag2/sl/image0002_s1_2.png'),\n",
       " WindowsPath('20mag2/sl/image0002_s1_3.png'),\n",
       " WindowsPath('20mag2/sl/image0003_s1_0.png'),\n",
       " WindowsPath('20mag2/sl/image0003_s1_1.png'),\n",
       " WindowsPath('20mag2/sl/image0003_s1_2.png'),\n",
       " WindowsPath('20mag2/sl/image0003_s1_3.png'),\n",
       " WindowsPath('20mag2/sl/image0004_s1_0.png'),\n",
       " WindowsPath('20mag2/sl/image0004_s1_1.png'),\n",
       " WindowsPath('20mag2/sl/image0004_s1_2.png'),\n",
       " WindowsPath('20mag2/sl/image0004_s1_3.png'),\n",
       " WindowsPath('20mag2/sl/image0005_s1_0.png'),\n",
       " WindowsPath('20mag2/sl/image0005_s1_1.png'),\n",
       " WindowsPath('20mag2/sl/image0005_s1_2.png'),\n",
       " WindowsPath('20mag2/sl/image0005_s1_3.png'),\n",
       " WindowsPath('20mag2/sl/image0006_s1_0.png'),\n",
       " WindowsPath('20mag2/sl/image0006_s1_1.png'),\n",
       " WindowsPath('20mag2/sl/image0006_s1_2.png'),\n",
       " WindowsPath('20mag2/sl/image0006_s1_3.png'),\n",
       " WindowsPath('20mag2/sl/image0007_s1_0.png'),\n",
       " WindowsPath('20mag2/sl/image0007_s1_1.png'),\n",
       " WindowsPath('20mag2/sl/image0007_s1_2.png'),\n",
       " WindowsPath('20mag2/sl/image0007_s1_3.png'),\n",
       " WindowsPath('20mag2/sl/image0008_s1_0.png'),\n",
       " WindowsPath('20mag2/sl/image0008_s1_1.png'),\n",
       " WindowsPath('20mag2/sl/image0008_s1_2.png'),\n",
       " WindowsPath('20mag2/sl/image0008_s1_3.png'),\n",
       " WindowsPath('20mag2/sl/image0009_s1_0.png'),\n",
       " WindowsPath('20mag2/sl/image0009_s1_1.png'),\n",
       " WindowsPath('20mag2/sl/image0009_s1_2.png'),\n",
       " WindowsPath('20mag2/sl/image0009_s1_3.png'),\n",
       " WindowsPath('20mag2/sl/image0010_s1_0.png'),\n",
       " WindowsPath('20mag2/sl/image0010_s1_1.png'),\n",
       " WindowsPath('20mag2/sl/image0010_s1_2.png'),\n",
       " WindowsPath('20mag2/sl/image0010_s1_3.png'),\n",
       " WindowsPath('20mag2/sl/image0011_s1_0.png'),\n",
       " WindowsPath('20mag2/sl/image0011_s1_1.png'),\n",
       " WindowsPath('20mag2/sl/image0011_s1_2.png'),\n",
       " WindowsPath('20mag2/sl/image0011_s1_3.png'),\n",
       " WindowsPath('20mag2/sl/image0012_s1_0.png'),\n",
       " WindowsPath('20mag2/sl/image0012_s1_1.png'),\n",
       " WindowsPath('20mag2/sl/image0012_s1_2.png'),\n",
       " WindowsPath('20mag2/sl/image0012_s1_3.png'),\n",
       " WindowsPath('20mag2/sl/image0013_s1_0.png'),\n",
       " WindowsPath('20mag2/sl/image0013_s1_1.png'),\n",
       " WindowsPath('20mag2/sl/image0013_s1_2.png'),\n",
       " WindowsPath('20mag2/sl/image0013_s1_3.png'),\n",
       " WindowsPath('20mag2/sl/image0014_s1_0.png'),\n",
       " WindowsPath('20mag2/sl/image0014_s1_1.png'),\n",
       " WindowsPath('20mag2/sl/image0014_s1_2.png'),\n",
       " WindowsPath('20mag2/sl/image0014_s1_3.png'),\n",
       " WindowsPath('20mag2/sl/image0015_s1_0.png'),\n",
       " WindowsPath('20mag2/sl/image0015_s1_1.png'),\n",
       " WindowsPath('20mag2/sl/image0015_s1_2.png'),\n",
       " WindowsPath('20mag2/sl/image0015_s1_3.png'),\n",
       " WindowsPath('20mag2/sl/image0016_s1_0.png'),\n",
       " WindowsPath('20mag2/sl/image0016_s1_1.png'),\n",
       " WindowsPath('20mag2/sl/image0016_s1_2.png'),\n",
       " WindowsPath('20mag2/sl/image0016_s1_3.png'),\n",
       " WindowsPath('20mag2/sl/image0017_s1_0.png'),\n",
       " WindowsPath('20mag2/sl/image0017_s1_1.png'),\n",
       " WindowsPath('20mag2/sl/image0017_s1_2.png'),\n",
       " WindowsPath('20mag2/sl/image0017_s1_3.png'),\n",
       " WindowsPath('20mag2/sl/image0018_s1_0.png'),\n",
       " WindowsPath('20mag2/sl/image0018_s1_1.png'),\n",
       " WindowsPath('20mag2/sl/image0018_s1_2.png'),\n",
       " WindowsPath('20mag2/sl/image0018_s1_3.png'),\n",
       " WindowsPath('20mag2/sl/image0019_s1_0.png'),\n",
       " WindowsPath('20mag2/sl/image0019_s1_1.png'),\n",
       " WindowsPath('20mag2/sl/image0019_s1_2.png'),\n",
       " WindowsPath('20mag2/sl/image0019_s1_3.png'),\n",
       " WindowsPath('20mag2/sl/image0020_s1_0.png'),\n",
       " WindowsPath('20mag2/sl/image0020_s1_1.png'),\n",
       " WindowsPath('20mag2/sl/image0020_s1_2.png'),\n",
       " WindowsPath('20mag2/sl/image0020_s1_3.png'),\n",
       " WindowsPath('20mag2/sl/image0021_s1_0.png'),\n",
       " WindowsPath('20mag2/sl/image0021_s1_1.png'),\n",
       " WindowsPath('20mag2/sl/image0021_s1_2.png'),\n",
       " WindowsPath('20mag2/sl/image0021_s1_3.png'),\n",
       " WindowsPath('20mag2/sl/image0022_s1_0.png'),\n",
       " WindowsPath('20mag2/sl/image0022_s1_1.png'),\n",
       " WindowsPath('20mag2/sl/image0022_s1_2.png'),\n",
       " WindowsPath('20mag2/sl/image0022_s1_3.png'),\n",
       " WindowsPath('20mag2/sl/image0023_s1_0.png'),\n",
       " WindowsPath('20mag2/sl/image0023_s1_1.png'),\n",
       " WindowsPath('20mag2/sl/image0023_s1_2.png'),\n",
       " WindowsPath('20mag2/sl/image0023_s1_3.png'),\n",
       " WindowsPath('20mag2/sl/image0024_s1_0.png'),\n",
       " WindowsPath('20mag2/sl/image0024_s1_1.png'),\n",
       " WindowsPath('20mag2/sl/image0024_s1_2.png'),\n",
       " WindowsPath('20mag2/sl/image0024_s1_3.png'),\n",
       " WindowsPath('20mag2/sl/image0025_s1_0.png'),\n",
       " WindowsPath('20mag2/sl/image0025_s1_1.png'),\n",
       " WindowsPath('20mag2/sl/image0025_s1_2.png'),\n",
       " WindowsPath('20mag2/sl/image0025_s1_3.png'),\n",
       " WindowsPath('20mag2/sl/image0026_s1_0.png'),\n",
       " WindowsPath('20mag2/sl/image0026_s1_1.png'),\n",
       " WindowsPath('20mag2/sl/image0026_s1_2.png'),\n",
       " WindowsPath('20mag2/sl/image0026_s1_3.png'),\n",
       " WindowsPath('20mag2/sl/image0027_s1_0.png'),\n",
       " WindowsPath('20mag2/sl/image0027_s1_1.png'),\n",
       " WindowsPath('20mag2/sl/image0027_s1_2.png'),\n",
       " WindowsPath('20mag2/sl/image0027_s1_3.png'),\n",
       " WindowsPath('20mag2/sl/image0028_s1_0.png'),\n",
       " WindowsPath('20mag2/sl/image0028_s1_1.png'),\n",
       " WindowsPath('20mag2/sl/image0028_s1_2.png'),\n",
       " WindowsPath('20mag2/sl/image0028_s1_3.png'),\n",
       " WindowsPath('20mag2/sl/image0029_s1_0.png'),\n",
       " WindowsPath('20mag2/sl/image0029_s1_1.png'),\n",
       " WindowsPath('20mag2/sl/image0029_s1_2.png'),\n",
       " WindowsPath('20mag2/sl/image0029_s1_3.png'),\n",
       " WindowsPath('20mag2/sl/image0030_s1_0.png'),\n",
       " WindowsPath('20mag2/sl/image0030_s1_1.png'),\n",
       " WindowsPath('20mag2/sl/image0030_s1_2.png'),\n",
       " WindowsPath('20mag2/sl/image0030_s1_3.png'),\n",
       " WindowsPath('20mag2/sl/image0031_s1_0.png'),\n",
       " WindowsPath('20mag2/sl/image0031_s1_1.png'),\n",
       " WindowsPath('20mag2/sl/image0031_s1_2.png'),\n",
       " WindowsPath('20mag2/sl/image0031_s1_3.png'),\n",
       " WindowsPath('20mag2/sl/image0032_s1_0.png'),\n",
       " WindowsPath('20mag2/sl/image0032_s1_1.png'),\n",
       " WindowsPath('20mag2/sl/image0032_s1_2.png'),\n",
       " WindowsPath('20mag2/sl/image0032_s1_3.png'),\n",
       " WindowsPath('20mag2/sl/image0033_s1_0.png'),\n",
       " WindowsPath('20mag2/sl/image0033_s1_1.png'),\n",
       " WindowsPath('20mag2/sl/image0033_s1_2.png'),\n",
       " WindowsPath('20mag2/sl/image0033_s1_3.png'),\n",
       " WindowsPath('20mag2/sl/image0034_s1_0.png'),\n",
       " WindowsPath('20mag2/sl/image0034_s1_1.png'),\n",
       " WindowsPath('20mag2/sl/image0034_s1_2.png'),\n",
       " WindowsPath('20mag2/sl/image0034_s1_3.png'),\n",
       " WindowsPath('20mag2/sl/image0035_s1_0.png'),\n",
       " WindowsPath('20mag2/sl/image0035_s1_1.png'),\n",
       " WindowsPath('20mag2/sl/image0035_s1_2.png'),\n",
       " WindowsPath('20mag2/sl/image0035_s1_3.png'),\n",
       " WindowsPath('20mag2/sl/image0036_s1_0.png'),\n",
       " WindowsPath('20mag2/sl/image0036_s1_1.png'),\n",
       " WindowsPath('20mag2/sl/image0036_s1_2.png'),\n",
       " WindowsPath('20mag2/sl/image0036_s1_3.png'),\n",
       " WindowsPath('20mag2/sl/image0037_s1_0.png'),\n",
       " WindowsPath('20mag2/sl/image0037_s1_1.png'),\n",
       " WindowsPath('20mag2/sl/image0037_s1_2.png'),\n",
       " WindowsPath('20mag2/sl/image0037_s1_3.png'),\n",
       " WindowsPath('20mag2/sl/image0038_s1_0.png'),\n",
       " WindowsPath('20mag2/sl/image0038_s1_1.png'),\n",
       " WindowsPath('20mag2/sl/image0038_s1_2.png'),\n",
       " WindowsPath('20mag2/sl/image0038_s1_3.png'),\n",
       " WindowsPath('20mag2/sl/image0039_s1_0.png'),\n",
       " WindowsPath('20mag2/sl/image0039_s1_1.png'),\n",
       " WindowsPath('20mag2/sl/image0039_s1_2.png'),\n",
       " WindowsPath('20mag2/sl/image0039_s1_3.png'),\n",
       " WindowsPath('20mag2/sl/image0040_s1_0.png'),\n",
       " WindowsPath('20mag2/sl/image0040_s1_1.png'),\n",
       " WindowsPath('20mag2/sl/image0040_s1_2.png'),\n",
       " WindowsPath('20mag2/sl/image0040_s1_3.png'),\n",
       " WindowsPath('20mag2/sl/image0041_s1_0.png'),\n",
       " WindowsPath('20mag2/sl/image0041_s1_1.png'),\n",
       " WindowsPath('20mag2/sl/image0041_s1_2.png'),\n",
       " WindowsPath('20mag2/sl/image0041_s1_3.png'),\n",
       " WindowsPath('20mag2/sl/image0042_s1_0.png'),\n",
       " WindowsPath('20mag2/sl/image0042_s1_1.png'),\n",
       " WindowsPath('20mag2/sl/image0042_s1_2.png'),\n",
       " WindowsPath('20mag2/sl/image0042_s1_3.png'),\n",
       " WindowsPath('20mag2/sl/image0043_s1_0.png'),\n",
       " WindowsPath('20mag2/sl/image0043_s1_1.png'),\n",
       " WindowsPath('20mag2/sl/image0043_s1_2.png'),\n",
       " WindowsPath('20mag2/sl/image0043_s1_3.png'),\n",
       " WindowsPath('20mag2/sl/image_s1_0.png'),\n",
       " WindowsPath('20mag2/sl/image_s1_1.png'),\n",
       " WindowsPath('20mag2/sl/image_s1_2.png'),\n",
       " WindowsPath('20mag2/sl/image_s1_3.png')]"
      ]
     },
     "execution_count": 45,
     "metadata": {},
     "output_type": "execute_result"
    }
   ],
   "source": [
    "list(data.glob('*/*.png'))"
   ]
  },
  {
   "cell_type": "code",
   "execution_count": 46,
   "id": "ed5ca28b",
   "metadata": {},
   "outputs": [],
   "source": [
    "count=len(list(data.glob('*/*.png')))"
   ]
  },
  {
   "cell_type": "code",
   "execution_count": 47,
   "id": "9ef3b122",
   "metadata": {},
   "outputs": [
    {
     "data": {
      "text/plain": [
       "508"
      ]
     },
     "execution_count": 47,
     "metadata": {},
     "output_type": "execute_result"
    }
   ],
   "source": [
    "count"
   ]
  },
  {
   "cell_type": "code",
   "execution_count": 48,
   "id": "a2b39c05",
   "metadata": {},
   "outputs": [],
   "source": [
    "iron_ore_images_dict = {\n",
    "    'hard laminated ore': list(data.glob('hl/*')),\n",
    "    'lateritic ore': list(data.glob('ll/*')),\n",
    "    'soft laminated ore': list(data.glob('sl/*')),\n",
    "  \n",
    "}"
   ]
  },
  {
   "cell_type": "code",
   "execution_count": 49,
   "id": "715dfffe",
   "metadata": {},
   "outputs": [],
   "source": [
    "iron_ore_labels_dict = {\n",
    "    'hard laminated ore': 0,\n",
    "    'lateritic ore': 1,\n",
    "    'soft laminated ore': 2,\n",
    "    \n",
    "}"
   ]
  },
  {
   "cell_type": "code",
   "execution_count": 50,
   "id": "7b650fa6",
   "metadata": {},
   "outputs": [
    {
     "data": {
      "text/plain": [
       "WindowsPath('20mag2/hl/image0001_h1_0.png')"
      ]
     },
     "execution_count": 50,
     "metadata": {},
     "output_type": "execute_result"
    }
   ],
   "source": [
    "iron_ore_images_dict['hard laminated ore'][0]"
   ]
  },
  {
   "cell_type": "code",
   "execution_count": 51,
   "id": "77892610",
   "metadata": {},
   "outputs": [],
   "source": [
    "img = cv2.imread(str(iron_ore_images_dict['hard laminated ore'][0]))"
   ]
  },
  {
   "cell_type": "code",
   "execution_count": 52,
   "id": "9bedbf57",
   "metadata": {},
   "outputs": [
    {
     "data": {
      "text/plain": [
       "(769, 1024, 3)"
      ]
     },
     "execution_count": 52,
     "metadata": {},
     "output_type": "execute_result"
    }
   ],
   "source": [
    "img.shape"
   ]
  },
  {
   "cell_type": "code",
   "execution_count": 53,
   "id": "c17fad5f",
   "metadata": {},
   "outputs": [
    {
     "data": {
      "text/plain": [
       "(128, 128, 3)"
      ]
     },
     "execution_count": 53,
     "metadata": {},
     "output_type": "execute_result"
    }
   ],
   "source": [
    "cv2.resize(img,(128,128)).shape"
   ]
  },
  {
   "cell_type": "code",
   "execution_count": 54,
   "id": "b65c64b5",
   "metadata": {},
   "outputs": [],
   "source": [
    "X, y = [], []\n",
    "\n",
    "for iron_ore_name, images in iron_ore_images_dict.items():\n",
    "    for image in images:\n",
    "        img = cv2.imread(str(image))\n",
    "        resized_img = cv2.resize(img,(128,128))\n",
    "        X.append(resized_img)\n",
    "        y.append(iron_ore_labels_dict[iron_ore_name])"
   ]
  },
  {
   "cell_type": "code",
   "execution_count": 55,
   "id": "e1f1e9da",
   "metadata": {},
   "outputs": [],
   "source": [
    "X = np.array(X)\n",
    "y = np.array(y)"
   ]
  },
  {
   "cell_type": "markdown",
   "id": "525db93f",
   "metadata": {},
   "source": [
    "Train test split"
   ]
  },
  {
   "cell_type": "code",
   "execution_count": 56,
   "id": "deddade0",
   "metadata": {},
   "outputs": [],
   "source": [
    "from sklearn.model_selection import train_test_split\n",
    "X_train, X_test, y_train, y_test = train_test_split(X, y, test_size = 0.2,random_state=0)"
   ]
  },
  {
   "cell_type": "markdown",
   "id": "3c0e22a7",
   "metadata": {},
   "source": [
    "Preprocessing: scale images"
   ]
  },
  {
   "cell_type": "code",
   "execution_count": 57,
   "id": "4357f42d",
   "metadata": {},
   "outputs": [],
   "source": [
    "X_train_scaled = X_train / 255\n",
    "X_test_scaled = X_test / 255"
   ]
  },
  {
   "cell_type": "code",
   "execution_count": 100,
   "id": "5cb08553",
   "metadata": {},
   "outputs": [
    {
     "ename": "SyntaxError",
     "evalue": "EOL while scanning string literal (2375063997.py, line 7)",
     "output_type": "error",
     "traceback": [
      "\u001b[1;36m  Input \u001b[1;32mIn [100]\u001b[1;36m\u001b[0m\n\u001b[1;33m    )''''\u001b[0m\n\u001b[1;37m         \n^\u001b[0m\n\u001b[1;31mSyntaxError\u001b[0m\u001b[1;31m:\u001b[0m EOL while scanning string literal\n"
     ]
    }
   ],
   "source": [
    "''''data_augmentation = keras.Sequential(\n",
    "  [\n",
    "    #layers.experimental.preprocessing.RandomFlip(\"horizontal\", input_shape=(img_height, img_width,3)),\n",
    "    layers.experimental.preprocessing.RandomRotation(0.1),\n",
    "    layers.experimental.preprocessing.RandomZoom(0.1),\n",
    "  ]\n",
    ")''''"
   ]
  },
  {
   "cell_type": "code",
   "execution_count": null,
   "id": "4a2cbfe2",
   "metadata": {},
   "outputs": [],
   "source": []
  },
  {
   "cell_type": "markdown",
   "id": "86532050",
   "metadata": {},
   "source": [
    "Build convolutional neural network and train it"
   ]
  },
  {
   "cell_type": "code",
   "execution_count": 80,
   "id": "31bd01f6",
   "metadata": {
    "scrolled": true
   },
   "outputs": [
    {
     "name": "stdout",
     "output_type": "stream",
     "text": [
      "Epoch 1/20\n",
      "26/26 [==============================] - 3s 97ms/step - loss: 1.0631 - accuracy: 0.5074 - val_loss: 1.0068 - val_accuracy: 0.7843\n",
      "Epoch 2/20\n",
      "26/26 [==============================] - 2s 89ms/step - loss: 0.9841 - accuracy: 0.7537 - val_loss: 0.9566 - val_accuracy: 0.7745\n",
      "Epoch 3/20\n",
      "26/26 [==============================] - 2s 91ms/step - loss: 0.9332 - accuracy: 0.8054 - val_loss: 0.9113 - val_accuracy: 0.7843\n",
      "Epoch 4/20\n",
      "26/26 [==============================] - 2s 92ms/step - loss: 0.8908 - accuracy: 0.8473 - val_loss: 0.8924 - val_accuracy: 0.7941\n",
      "Epoch 5/20\n",
      "26/26 [==============================] - 3s 103ms/step - loss: 0.8738 - accuracy: 0.7980 - val_loss: 0.8603 - val_accuracy: 0.8137\n",
      "Epoch 6/20\n",
      "26/26 [==============================] - 2s 92ms/step - loss: 0.8651 - accuracy: 0.7537 - val_loss: 0.8653 - val_accuracy: 0.7353\n",
      "Epoch 7/20\n",
      "26/26 [==============================] - 2s 92ms/step - loss: 0.8531 - accuracy: 0.7685 - val_loss: 0.8429 - val_accuracy: 0.6765\n",
      "Epoch 8/20\n",
      "26/26 [==============================] - 3s 96ms/step - loss: 0.8052 - accuracy: 0.8424 - val_loss: 0.7929 - val_accuracy: 0.8431\n",
      "Epoch 9/20\n",
      "26/26 [==============================] - 3s 96ms/step - loss: 0.7684 - accuracy: 0.8621 - val_loss: 0.7701 - val_accuracy: 0.8725\n",
      "Epoch 10/20\n",
      "26/26 [==============================] - 2s 92ms/step - loss: 0.7305 - accuracy: 0.8990 - val_loss: 0.7545 - val_accuracy: 0.8529\n",
      "Epoch 11/20\n",
      "26/26 [==============================] - 2s 92ms/step - loss: 0.7191 - accuracy: 0.8966 - val_loss: 0.7371 - val_accuracy: 0.8431\n",
      "Epoch 12/20\n",
      "26/26 [==============================] - 2s 95ms/step - loss: 0.7182 - accuracy: 0.8596 - val_loss: 0.6890 - val_accuracy: 0.9118\n",
      "Epoch 13/20\n",
      "26/26 [==============================] - 3s 99ms/step - loss: 0.6572 - accuracy: 0.9212 - val_loss: 0.6749 - val_accuracy: 0.9020\n",
      "Epoch 14/20\n",
      "26/26 [==============================] - 2s 95ms/step - loss: 0.6264 - accuracy: 0.9384 - val_loss: 0.6425 - val_accuracy: 0.9118\n",
      "Epoch 15/20\n",
      "26/26 [==============================] - 2s 93ms/step - loss: 0.6108 - accuracy: 0.9335 - val_loss: 0.6479 - val_accuracy: 0.8824\n",
      "Epoch 16/20\n",
      "26/26 [==============================] - 2s 93ms/step - loss: 0.5876 - accuracy: 0.9384 - val_loss: 0.6103 - val_accuracy: 0.9118\n",
      "Epoch 17/20\n",
      "26/26 [==============================] - 2s 92ms/step - loss: 0.5575 - accuracy: 0.9557 - val_loss: 0.6158 - val_accuracy: 0.8824\n",
      "Epoch 18/20\n",
      "26/26 [==============================] - 2s 93ms/step - loss: 0.5619 - accuracy: 0.9310 - val_loss: 0.6318 - val_accuracy: 0.8431\n",
      "Epoch 19/20\n",
      "26/26 [==============================] - 2s 96ms/step - loss: 0.5242 - accuracy: 0.9606 - val_loss: 0.5665 - val_accuracy: 0.9118\n",
      "Epoch 20/20\n",
      "26/26 [==============================] - 3s 100ms/step - loss: 0.5059 - accuracy: 0.9631 - val_loss: 0.5471 - val_accuracy: 0.9216\n"
     ]
    }
   ],
   "source": [
    "num_classes = 3\n",
    "\n",
    "model = Sequential([\n",
    "  #data_augmentation,\n",
    "  layers.Conv2D(16, 3, padding='same', activation='relu'),\n",
    "  layers.MaxPooling2D(),\n",
    "  \n",
    "  layers.Conv2D(32, 3, padding='same', activation='relu'),\n",
    "  layers.MaxPooling2D(),\n",
    "  \n",
    "  layers.Conv2D(64, 3, padding='same', activation='relu'),\n",
    "  layers.MaxPooling2D(),\n",
    "  \n",
    "  layers.Flatten(),\n",
    "  layers.Dense(128, activation='softmax'),\n",
    "  layers.Dense(num_classes)\n",
    "])\n",
    "\n",
    "model.compile(optimizer='adam',\n",
    "              loss=tf.keras.losses.SparseCategoricalCrossentropy(from_logits=True),\n",
    "              metrics=['accuracy'])\n",
    "              \n",
    "hist=model.fit(X_train_scaled, y_train, batch_size=16,epochs=20,validation_data = (X_test_scaled, y_test),)    "
   ]
  },
  {
   "cell_type": "code",
   "execution_count": 81,
   "id": "ade6f37b",
   "metadata": {},
   "outputs": [
    {
     "name": "stdout",
     "output_type": "stream",
     "text": [
      "4/4 [==============================] - 0s 33ms/step - loss: 0.5471 - accuracy: 0.9216\n"
     ]
    },
    {
     "data": {
      "text/plain": [
       "[0.5471374988555908, 0.9215686321258545]"
      ]
     },
     "execution_count": 81,
     "metadata": {},
     "output_type": "execute_result"
    }
   ],
   "source": [
    "model.evaluate(X_test_scaled,y_test)"
   ]
  },
  {
   "cell_type": "markdown",
   "id": "5c56f94d",
   "metadata": {},
   "source": []
  },
  {
   "cell_type": "code",
   "execution_count": 82,
   "id": "1ceea8ad",
   "metadata": {},
   "outputs": [
    {
     "name": "stdout",
     "output_type": "stream",
     "text": [
      "4/4 [==============================] - 0s 31ms/step\n"
     ]
    },
    {
     "data": {
      "text/plain": [
       "array([[-0.7061757 , -0.41849864,  0.6964506 ],\n",
       "       [-0.705824  , -0.41863623,  0.69636387],\n",
       "       [-0.6879922 ,  0.78664887, -0.6793877 ],\n",
       "       [-0.70390195, -0.39347613,  0.6666086 ],\n",
       "       [ 0.7217647 , -0.630186  , -0.04786596],\n",
       "       [ 0.72186804, -0.63020134, -0.04791982],\n",
       "       [-0.68800116,  0.78649384, -0.6792079 ],\n",
       "       [-0.6880027 ,  0.7852712 , -0.6778195 ],\n",
       "       [-0.6880182 ,  0.7852393 , -0.67777646],\n",
       "       [ 0.7218629 , -0.6302006 , -0.04791719],\n",
       "       [-0.68803567,  0.78306115, -0.6752967 ],\n",
       "       [-0.6880415 ,  0.78300315, -0.6752284 ],\n",
       "       [-0.70258355, -0.41912186,  0.6946794 ],\n",
       "       [-0.7057421 , -0.41865045,  0.69632256],\n",
       "       [ 0.72186446, -0.63020086, -0.04791795],\n",
       "       [-0.6879894 ,  0.7866975 , -0.67944384],\n",
       "       [-0.68799555,  0.786614  , -0.6793466 ],\n",
       "       [-0.6880446 ,  0.78278476, -0.6749783 ],\n",
       "       [-0.6879956 ,  0.78645295, -0.67916346],\n",
       "       [ 0.72186804, -0.63020134, -0.04791985],\n",
       "       [-0.534364  , -0.44404918,  0.6069827 ],\n",
       "       [-0.40410635, -0.4633508 ,  0.53907603],\n",
       "       [ 0.7218415 , -0.6301974 , -0.04790602],\n",
       "       [-0.6879848 ,  0.7866664 , -0.6794107 ],\n",
       "       [ 0.7217932 , -0.63019025, -0.04788084],\n",
       "       [-0.7059452 , -0.41844523,  0.6962323 ],\n",
       "       [ 0.72186804, -0.63020134, -0.04791983],\n",
       "       [ 0.7218673 , -0.6302013 , -0.04791947],\n",
       "       [ 0.7218679 , -0.6302013 , -0.0479198 ],\n",
       "       [ 0.72186834, -0.6302014 , -0.04791999],\n",
       "       [-0.6879831 ,  0.7865503 , -0.67927945],\n",
       "       [ 0.7218248 , -0.63019496, -0.04789732],\n",
       "       [-0.68799776,  0.78670037, -0.6794437 ],\n",
       "       [-0.6806648 , -0.42223302,  0.6831094 ],\n",
       "       [ 0.7218684 , -0.6302014 , -0.04792003],\n",
       "       [-0.70410764, -0.4188888 ,  0.6954677 ],\n",
       "       [-0.61351573, -0.43231994,  0.64824605],\n",
       "       [-0.68367404, -0.42192397,  0.6848215 ],\n",
       "       [-0.705939  , -0.4186112 ,  0.69641364],\n",
       "       [-0.687997  ,  0.78666526, -0.67940414],\n",
       "       [-0.68799657,  0.786707  , -0.6794517 ],\n",
       "       [ 0.72110933, -0.6300889 , -0.04752431],\n",
       "       [-0.68800056,  0.7867226 , -0.6794677 ],\n",
       "       [-0.7061539 , -0.41740155,  0.69519436],\n",
       "       [ 0.7130721 , -0.6288979 , -0.04333436],\n",
       "       [ 0.7218618 , -0.6302004 , -0.04791658],\n",
       "       [-0.6879993 ,  0.78595746, -0.67859983],\n",
       "       [ 0.72126037, -0.6301113 , -0.04760306],\n",
       "       [ 0.6590698 , -0.62089574, -0.01518166],\n",
       "       [ 0.7218594 , -0.6302    , -0.04791537],\n",
       "       [ 0.72175515, -0.63018465, -0.04786099],\n",
       "       [-0.68939686,  0.68829745, -0.56713396],\n",
       "       [-0.68799967,  0.78671855, -0.67946345],\n",
       "       [-0.70608747, -0.41860244,  0.69650584],\n",
       "       [ 0.7217128 , -0.63017833, -0.04783892],\n",
       "       [ 0.7217113 , -0.6301781 , -0.04783811],\n",
       "       [-0.6574515 , -0.42410854,  0.6692585 ],\n",
       "       [-0.6880102 ,  0.78465647, -0.67711854],\n",
       "       [-0.6879992 ,  0.7864726 , -0.6791847 ],\n",
       "       [-0.6822906 , -0.42209393,  0.6840673 ],\n",
       "       [-0.6886806 ,  0.73490095, -0.62034893],\n",
       "       [-0.6879959 ,  0.78666216, -0.67940116],\n",
       "       [-0.7036613 , -0.41896158,  0.69524074],\n",
       "       [-0.6879929 ,  0.7867022 , -0.6794479 ],\n",
       "       [-0.3564108 , -0.4704188 ,  0.51421165],\n",
       "       [-0.70616615, -0.41852963,  0.6964789 ],\n",
       "       [-0.6882184 ,  0.76820385, -0.6583494 ],\n",
       "       [ 0.7218683 , -0.63020134, -0.04791997],\n",
       "       [-0.06894021, -0.5130167 ,  0.36434647],\n",
       "       [-0.68799675,  0.7855694 , -0.6781593 ],\n",
       "       [ 0.7009289 , -0.6270985 , -0.03700381],\n",
       "       [ 0.7215237 , -0.6301503 , -0.04774034],\n",
       "       [ 0.7218508 , -0.63019884, -0.04791087],\n",
       "       [ 0.7218684 , -0.6302014 , -0.04792003],\n",
       "       [-0.7057749 , -0.40463874,  0.6805169 ],\n",
       "       [-0.7056922 , -0.41851553,  0.69613767],\n",
       "       [-0.6879929 ,  0.786088  , -0.6787507 ],\n",
       "       [-0.68799925,  0.7866638 , -0.6794015 ],\n",
       "       [ 0.72167075, -0.63017213, -0.047817  ],\n",
       "       [-0.7048062 , -0.41874096,  0.69578016],\n",
       "       [-0.6885937 ,  0.7426417 , -0.62917274],\n",
       "       [ 0.7218672 , -0.6302012 , -0.04791944],\n",
       "       [-0.6852817 , -0.42168552,  0.68565947],\n",
       "       [-0.6879854 ,  0.7864686 , -0.679186  ],\n",
       "       [-0.6879782 ,  0.78424764, -0.6766627 ],\n",
       "       [-0.68800837,  0.7787878 , -0.6704495 ],\n",
       "       [ 0.71992135, -0.62991285, -0.046905  ],\n",
       "       [ 0.7218064 , -0.6301922 , -0.04788772],\n",
       "       [ 0.72060907, -0.6300148 , -0.04726351],\n",
       "       [-0.69107676,  0.5752798 , -0.43812072],\n",
       "       [ 0.72183585, -0.6301966 , -0.04790305],\n",
       "       [-0.7061491 , -0.41858426,  0.6965278 ],\n",
       "       [-0.6881263 ,  0.7781374 , -0.6696682 ],\n",
       "       [-0.68802446,  0.78325486, -0.6755279 ],\n",
       "       [-0.6879968 ,  0.7866965 , -0.6794397 ],\n",
       "       [-0.70485574, -0.33292836,  0.5987565 ],\n",
       "       [-0.5875946 , -0.4357569 ,  0.63427716],\n",
       "       [ 0.721841  , -0.63019735, -0.04790572],\n",
       "       [-0.2780518 , -0.48203027,  0.47336128],\n",
       "       [ 0.7046643 , -0.62765205, -0.03895115],\n",
       "       [-0.70453936, -0.41883156,  0.6956987 ],\n",
       "       [ 0.7216457 , -0.6301684 , -0.04780395]], dtype=float32)"
      ]
     },
     "execution_count": 82,
     "metadata": {},
     "output_type": "execute_result"
    }
   ],
   "source": [
    "predictions = model.predict(X_test_scaled)\n",
    "predictions"
   ]
  },
  {
   "cell_type": "code",
   "execution_count": 83,
   "id": "2d70fce9",
   "metadata": {},
   "outputs": [
    {
     "name": "stdout",
     "output_type": "stream",
     "text": [
      "tf.Tensor([0.19136922 0.2094572  0.59917355], shape=(3,), dtype=float32)\n"
     ]
    }
   ],
   "source": [
    "score = tf.nn.softmax(predictions[20])\n",
    "print(score)"
   ]
  },
  {
   "cell_type": "code",
   "execution_count": 84,
   "id": "540893cd",
   "metadata": {},
   "outputs": [
    {
     "data": {
      "text/plain": [
       "2"
      ]
     },
     "execution_count": 84,
     "metadata": {},
     "output_type": "execute_result"
    }
   ],
   "source": [
    "np.argmax(score)"
   ]
  },
  {
   "cell_type": "code",
   "execution_count": 85,
   "id": "39b91f90",
   "metadata": {},
   "outputs": [
    {
     "data": {
      "text/plain": [
       "2"
      ]
     },
     "execution_count": 85,
     "metadata": {},
     "output_type": "execute_result"
    }
   ],
   "source": [
    "y_test[20]"
   ]
  },
  {
   "cell_type": "code",
   "execution_count": 86,
   "id": "29b05e51",
   "metadata": {},
   "outputs": [],
   "source": [
    "# Plot the loss and accuracy curves for training and validation \n",
    "\n"
   ]
  },
  {
   "cell_type": "code",
   "execution_count": 87,
   "id": "125adf57",
   "metadata": {},
   "outputs": [
    {
     "data": {
      "image/png": "[encoded data removed]",
      "text/plain": [
       "<Figure size 432x288 with 1 Axes>"
      ]
     },
     "metadata": {
      "needs_background": "light"
     },
     "output_type": "display_data"
    }
   ],
   "source": [
    "\n",
    "\n",
    "plt.plot(hist.history['loss'], color='b', label=\"Training loss\")\n",
    "plt.plot(hist.history['val_loss'], color='r', label=\"validation loss\")\n",
    "plt.legend(loc='best', shadow=True)\n",
    "plt.title('model loss')\n",
    "plt.ylabel('loss')\n",
    "plt.xlabel('epoch')\n",
    "plt.show()\n",
    "\n"
   ]
  },
  {
   "cell_type": "code",
   "execution_count": 88,
   "id": "dbee3d70",
   "metadata": {},
   "outputs": [
    {
     "data": {
      "image/png": "[encoded data removed]",
      "text/plain": [
       "<Figure size 432x288 with 1 Axes>"
      ]
     },
     "metadata": {
      "needs_background": "light"
     },
     "output_type": "display_data"
    }
   ],
   "source": [
    "plt.plot(hist.history['accuracy'], color='b', label=\"Training accuracy\")\n",
    "plt.plot(hist.history['val_accuracy'], color='r',label=\"Validation accuracy\")\n",
    "legend = plt.legend(loc='best', shadow=True)\n",
    "plt.title('model accuracy')\n",
    "plt.xlabel('epoch')\n",
    "plt.ylabel('model accuracy')\n",
    "plt.show()"
   ]
  },
  {
   "cell_type": "code",
   "execution_count": 89,
   "id": "1c285298",
   "metadata": {},
   "outputs": [
    {
     "name": "stdout",
     "output_type": "stream",
     "text": [
      "4/4 [==============================] - 0s 31ms/step\n"
     ]
    }
   ],
   "source": [
    "#Make predictions\n",
    "y_probs = model.predict(X_test_scaled)\n",
    "\n",
    "#Convert prediction probabilities into integers\n",
    "y_preds = y_probs.argmax(axis=1)"
   ]
  },
  {
   "cell_type": "code",
   "execution_count": 90,
   "id": "60c9d7ac",
   "metadata": {},
   "outputs": [],
   "source": [
    "from sklearn.metrics import confusion_matrix\n",
    "from sklearn.metrics import ConfusionMatrixDisplay"
   ]
  },
  {
   "cell_type": "code",
   "execution_count": 91,
   "id": "0178074b",
   "metadata": {},
   "outputs": [
    {
     "data": {
      "image/png": "[encoded data removed]",
      "text/plain": [
       "<Figure size 216x216 with 2 Axes>"
      ]
     },
     "metadata": {
      "needs_background": "light"
     },
     "output_type": "display_data"
    }
   ],
   "source": [
    "#Confusion matrix\n",
    "cm=confusion_matrix(y_preds,y_test)\n",
    "#Plot\n",
    "disp=ConfusionMatrixDisplay(confusion_matrix=cm,display_labels=iron_ore_images_dict)\n",
    "fig, ax = plt.subplots(figsize=(3,3))\n",
    "disp.plot(ax=ax);"
   ]
  },
  {
   "cell_type": "code",
   "execution_count": 92,
   "id": "52770124",
   "metadata": {},
   "outputs": [
    {
     "name": "stdout",
     "output_type": "stream",
     "text": [
      "Model: \"sequential_5\"\n",
      "_________________________________________________________________\n",
      " Layer (type)                Output Shape              Param #   \n",
      "=================================================================\n",
      " conv2d_9 (Conv2D)           (None, 128, 128, 16)      448       \n",
      "                                                                 \n",
      " max_pooling2d_9 (MaxPooling  (None, 64, 64, 16)       0         \n",
      " 2D)                                                             \n",
      "                                                                 \n",
      " conv2d_10 (Conv2D)          (None, 64, 64, 32)        4640      \n",
      "                                                                 \n",
      " max_pooling2d_10 (MaxPoolin  (None, 32, 32, 32)       0         \n",
      " g2D)                                                            \n",
      "                                                                 \n",
      " conv2d_11 (Conv2D)          (None, 32, 32, 64)        18496     \n",
      "                                                                 \n",
      " max_pooling2d_11 (MaxPoolin  (None, 16, 16, 64)       0         \n",
      " g2D)                                                            \n",
      "                                                                 \n",
      " flatten_3 (Flatten)         (None, 16384)             0         \n",
      "                                                                 \n",
      " dense_6 (Dense)             (None, 128)               2097280   \n",
      "                                                                 \n",
      " dense_7 (Dense)             (None, 3)                 387       \n",
      "                                                                 \n",
      "=================================================================\n",
      "Total params: 2,121,251\n",
      "Trainable params: 2,121,251\n",
      "Non-trainable params: 0\n",
      "_________________________________________________________________\n"
     ]
    }
   ],
   "source": [
    "model.summary()"
   ]
  },
  {
   "cell_type": "code",
   "execution_count": 93,
   "id": "912c8b96",
   "metadata": {},
   "outputs": [
    {
     "name": "stdout",
     "output_type": "stream",
     "text": [
      "4/4 [==============================] - 0s 31ms/step\n",
      "Confusion Matrix\n",
      "[[31  0  0]\n",
      " [ 0 33  0]\n",
      " [ 5  3 30]]\n"
     ]
    }
   ],
   "source": [
    "#Make predictions\n",
    "y_probs = model.predict(X_test_scaled)\n",
    "\n",
    "#Convert prediction probabilities into integers\n",
    "y_preds = y_probs.argmax(axis=1)\n",
    "print('Confusion Matrix')\n",
    "print(confusion_matrix(y_test, y_preds))"
   ]
  },
  {
   "cell_type": "code",
   "execution_count": 99,
   "id": "33bd9702",
   "metadata": {},
   "outputs": [
    {
     "name": "stdout",
     "output_type": "stream",
     "text": [
      "                    precision    recall  f1-score   support\n",
      "\n",
      "hard laminated ore       0.86      1.00      0.93        31\n",
      "     lateritic ore       0.92      1.00      0.96        33\n",
      "soft laminated ore       1.00      0.79      0.88        38\n",
      "\n",
      "          accuracy                           0.92       102\n",
      "         macro avg       0.93      0.93      0.92       102\n",
      "      weighted avg       0.93      0.92      0.92       102\n",
      "\n"
     ]
    }
   ],
   "source": [
    "from sklearn.metrics import classification_report\n",
    "print(classification_report(y_test, y_preds, target_names=iron_ore_labels_dict))"
   ]
  }
 ],
 "metadata": {
  "kernelspec": {
   "display_name": "Python 3 (ipykernel)",
   "language": "python",
   "name": "python3"
  },
  "language_info": {
   "codemirror_mode": {
    "name": "ipython",
    "version": 3
   },
   "file_extension": ".py",
   "mimetype": "text/x-python",
   "name": "python",
   "nbconvert_exporter": "python",
   "pygments_lexer": "ipython3",
   "version": "3.9.12"
  }
 },
 "nbformat": 4,
 "nbformat_minor": 5
}
